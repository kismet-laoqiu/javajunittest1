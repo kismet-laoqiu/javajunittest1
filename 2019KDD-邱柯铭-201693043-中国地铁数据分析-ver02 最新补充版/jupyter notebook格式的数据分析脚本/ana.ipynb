{
 "cells": [
  {
   "cell_type": "markdown",
   "metadata": {},
   "source": [
    "# 数据分析"
   ]
  },
  {
   "cell_type": "code",
   "execution_count": 1,
   "metadata": {},
   "outputs": [
    {
     "ename": "ModuleNotFoundError",
     "evalue": "No module named 'wordcloud'",
     "output_type": "error",
     "traceback": [
      "\u001b[1;31m---------------------------------------------------------------------------\u001b[0m",
      "\u001b[1;31mModuleNotFoundError\u001b[0m                       Traceback (most recent call last)",
      "\u001b[1;32m<ipython-input-1-c58a7d92e949>\u001b[0m in \u001b[0;36m<module>\u001b[1;34m()\u001b[0m\n\u001b[1;32m----> 1\u001b[1;33m \u001b[1;32mfrom\u001b[0m \u001b[0mwordcloud\u001b[0m \u001b[1;32mimport\u001b[0m \u001b[0mWordCloud\u001b[0m\u001b[1;33m,\u001b[0m \u001b[0mImageColorGenerator\u001b[0m\u001b[1;33m\u001b[0m\u001b[0m\n\u001b[0m\u001b[0;32m      2\u001b[0m \u001b[1;32mfrom\u001b[0m \u001b[0mpyecharts\u001b[0m \u001b[1;32mimport\u001b[0m \u001b[0mLine\u001b[0m\u001b[1;33m,\u001b[0m \u001b[0mBar\u001b[0m\u001b[1;33m,\u001b[0m \u001b[0mGeo\u001b[0m\u001b[1;33m\u001b[0m\u001b[0m\n\u001b[0;32m      3\u001b[0m \u001b[1;32mimport\u001b[0m \u001b[0mmatplotlib\u001b[0m\u001b[1;33m.\u001b[0m\u001b[0mpyplot\u001b[0m \u001b[1;32mas\u001b[0m \u001b[0mplt\u001b[0m\u001b[1;33m\u001b[0m\u001b[0m\n\u001b[0;32m      4\u001b[0m \u001b[1;32mimport\u001b[0m \u001b[0mpandas\u001b[0m \u001b[1;32mas\u001b[0m \u001b[0mpd\u001b[0m\u001b[1;33m\u001b[0m\u001b[0m\n\u001b[0;32m      5\u001b[0m \u001b[1;32mimport\u001b[0m \u001b[0mnumpy\u001b[0m \u001b[1;32mas\u001b[0m \u001b[0mnp\u001b[0m\u001b[1;33m\u001b[0m\u001b[0m\n",
      "\u001b[1;31mModuleNotFoundError\u001b[0m: No module named 'wordcloud'"
     ]
    }
   ],
   "source": [
    "from wordcloud import WordCloud, ImageColorGenerator\n",
    "from pyecharts import Line, Bar, Geo\n",
    "import matplotlib.pyplot as plt\n",
    "import pandas as pd\n",
    "import numpy as np\n",
    "import jieba"
   ]
  },
  {
   "cell_type": "markdown",
   "metadata": {},
   "source": [
    "设置列名与数据对齐"
   ]
  },
  {
   "cell_type": "code",
   "execution_count": null,
   "metadata": {},
   "outputs": [],
   "source": [
    "pd.set_option('display.unicode.ambiguous_as_wide', True)\n",
    "pd.set_option('display.unicode.east_asian_width', True)"
   ]
  },
  {
   "cell_type": "markdown",
   "metadata": {},
   "source": [
    "显示10行"
   ]
  },
  {
   "cell_type": "code",
   "execution_count": null,
   "metadata": {},
   "outputs": [],
   "source": [
    "pd.set_option('display.max_rows', 10)"
   ]
  },
  {
   "cell_type": "markdown",
   "metadata": {},
   "source": [
    "读取数据"
   ]
  },
  {
   "cell_type": "code",
   "execution_count": null,
   "metadata": {},
   "outputs": [],
   "source": [
    "df = pd.read_csv('subway.csv', header=None, names=['city', 'line', 'station'], encoding='gbk')"
   ]
  },
  {
   "cell_type": "markdown",
   "metadata": {},
   "source": [
    "各个城市地铁线路情况"
   ]
  },
  {
   "cell_type": "code",
   "execution_count": 5,
   "metadata": {},
   "outputs": [
    {
     "ename": "NameError",
     "evalue": "name 'df' is not defined",
     "output_type": "error",
     "traceback": [
      "\u001b[1;31m---------------------------------------------------------------------------\u001b[0m",
      "\u001b[1;31mNameError\u001b[0m                                 Traceback (most recent call last)",
      "\u001b[1;32m<ipython-input-5-edcdfd0bdf54>\u001b[0m in \u001b[0;36m<module>\u001b[1;34m()\u001b[0m\n\u001b[1;32m----> 1\u001b[1;33m \u001b[0mdf_line\u001b[0m \u001b[1;33m=\u001b[0m \u001b[0mdf\u001b[0m\u001b[1;33m.\u001b[0m\u001b[0mgroupby\u001b[0m\u001b[1;33m(\u001b[0m\u001b[1;33m[\u001b[0m\u001b[1;34m'city'\u001b[0m\u001b[1;33m,\u001b[0m \u001b[1;34m'line'\u001b[0m\u001b[1;33m]\u001b[0m\u001b[1;33m)\u001b[0m\u001b[1;33m.\u001b[0m\u001b[0mcount\u001b[0m\u001b[1;33m(\u001b[0m\u001b[1;33m)\u001b[0m\u001b[1;33m.\u001b[0m\u001b[0mreset_index\u001b[0m\u001b[1;33m(\u001b[0m\u001b[1;33m)\u001b[0m\u001b[1;33m\u001b[0m\u001b[0m\n\u001b[0m\u001b[0;32m      2\u001b[0m \u001b[0mprint\u001b[0m\u001b[1;33m(\u001b[0m\u001b[0mdf_line\u001b[0m\u001b[1;33m)\u001b[0m\u001b[1;33m\u001b[0m\u001b[0m\n",
      "\u001b[1;31mNameError\u001b[0m: name 'df' is not defined"
     ]
    }
   ],
   "source": [
    "df_line = df.groupby(['city', 'line']).count().reset_index()\n",
    "print(df_line)\n",
    "def create_scatter(df1,df2):\n",
    "    value = [i for i in df1['line']]\n",
    "    attr = [i for i in df1['city']]\n",
    "    d1 = list(zip(value,attr))"
   ]
  },
  {
   "cell_type": "markdown",
   "metadata": {},
   "source": [
    "绘制地图"
   ]
  },
  {
   "cell_type": "code",
   "execution_count": 17,
   "metadata": {},
   "outputs": [],
   "source": [
    "def create_map(df):\n",
    "    value = [i for i in df['line']]\n",
    "    attr = [i for i in df['city']]\n",
    "    geo = Geo(\"已开通地铁城市分布情况\", title_pos='center', title_top='0', width=800, height=400, title_color=\"#fff\", background_color=\"#404a59\", )\n",
    "    geo.add(\"\", attr, value, is_visualmap=True, visual_range=[0, 25], visual_text_color=\"#fff\", symbol_size=15)\n",
    "    geo.render(\"已开通地铁城市分布情况.html\")\n"
   ]
  },
  {
   "cell_type": "markdown",
   "metadata": {},
   "source": [
    "生成城市地铁线路数量分布情况"
   ]
  },
  {
   "cell_type": "code",
   "execution_count": null,
   "metadata": {},
   "outputs": [],
   "source": [
    "def create_line(df):\n",
    "    title_len = df['line']\n",
    "    bins = [0, 5, 10, 15, 20, 25]\n",
    "    level = ['0-5', '5-10', '10-15', '15-20', '20以上']\n",
    "    len_stage = pd.cut(title_len, bins=bins, labels=level).value_counts().sort_index()\n",
    "    # 生成柱状图\n",
    "    attr = len_stage.index\n",
    "    v1 = len_stage.values\n",
    "    bar = Bar(\"各城市地铁线路数量分布\", title_pos='center', title_top='18', width=800, height=400)\n",
    "    bar.add(\"\", attr, v1, is_stack=True, is_label_show=True)\n",
    "    bar.render(\"各城市地铁线路数量分布.html\")"
   ]
  },
  {
   "cell_type": "markdown",
   "metadata": {},
   "source": [
    "各个城市地铁线路数"
   ]
  },
  {
   "cell_type": "code",
   "execution_count": null,
   "metadata": {},
   "outputs": [],
   "source": [
    "df_city = df_line.groupby(['city']).count().reset_index().sort_values(by='line', ascending=False)\n",
    "print(df_city)\n",
    "create_map(df_city)\n",
    "create_line(df_city)"
   ]
  },
  {
   "cell_type": "markdown",
   "metadata": {},
   "source": [
    "哪个城市哪条线路地铁站最多"
   ]
  },
  {
   "cell_type": "code",
   "execution_count": null,
   "metadata": {},
   "outputs": [],
   "source": [
    "print(df_line.sort_values(by='station', ascending=False))"
   ]
  },
  {
   "cell_type": "code",
   "execution_count": null,
   "metadata": {},
   "outputs": [],
   "source": [
    "去除重复换乘站的地铁数据"
   ]
  },
  {
   "cell_type": "code",
   "execution_count": null,
   "metadata": {},
   "outputs": [],
   "source": [
    "df_station = df.groupby(['city', 'station']).count().reset_index()\n",
    "print(df_station)"
   ]
  },
  {
   "cell_type": "markdown",
   "metadata": {},
   "source": [
    "统计每个城市包含地铁站数(已去除重复换乘站)"
   ]
  },
  {
   "cell_type": "code",
   "execution_count": null,
   "metadata": {},
   "outputs": [],
   "source": [
    "print(df_station.groupby(['city']).count().reset_index().sort_values(by='station', ascending=False))"
   ]
  },
  {
   "cell_type": "markdown",
   "metadata": {},
   "source": [
    "生成地铁名词云"
   ]
  },
  {
   "cell_type": "code",
   "execution_count": 11,
   "metadata": {},
   "outputs": [],
   "source": [
    "def create_wordcloud(df):\n",
    "    # 分词\n",
    "    text = ''\n",
    "    for line in df['station']:\n",
    "        text += ' '.join(jieba.cut(line, cut_all=False))\n",
    "        text += ' '\n",
    "    backgroud_Image = plt.imread('C:\\\\Users\\\\Administrator\\\\Desktop\\\\subway_analysis-master\\\\timg.jpg')\n",
    "    wc = WordCloud(\n",
    "        background_color='white',\n",
    "        mask=backgroud_Image,\n",
    "        font_path='C:\\\\Windows\\\\Fonts\\\\STFANGSO.TTF',\n",
    "        max_words=1000,\n",
    "        max_font_size=150,\n",
    "        min_font_size=15,\n",
    "        prefer_horizontal=1,\n",
    "        random_state=50,\n",
    "    )\n",
    "    wc.generate_from_text(text)\n",
    "    img_colors = ImageColorGenerator(backgroud_Image)\n",
    "    wc.recolor(color_func=img_colors)\n",
    "    # 看看词频高的有哪些\n",
    "    process_word = WordCloud.process_text(wc, text)\n",
    "    sort = sorted(process_word.items(), key=lambda e: e[1], reverse=True)\n",
    "    print(sort[:50])\n",
    "    plt.imshow(wc)\n",
    "    plt.axis('off')\n",
    "    wc.to_file(\"地铁名词云1.jpg\")\n",
    "    print('生成词云成功!')\n"
   ]
  },
  {
   "cell_type": "markdown",
   "metadata": {},
   "source": [
    "将字符串输出一个个中文"
   ]
  },
  {
   "cell_type": "code",
   "execution_count": null,
   "metadata": {},
   "outputs": [],
   "source": [
    "words = []\n",
    "for line in df['station']:\n",
    "    for i in line:\n",
    "        words.append(i)"
   ]
  },
  {
   "cell_type": "code",
   "execution_count": null,
   "metadata": {},
   "outputs": [],
   "source": [
    "统计单字频率"
   ]
  },
  {
   "cell_type": "code",
   "execution_count": 12,
   "metadata": {},
   "outputs": [],
   "source": [
    "def all_np(arr):\n",
    "    arr = np.array(arr)\n",
    "    key = np.unique(arr)\n",
    "    result = {}\n",
    "    for k in key:\n",
    "        mask = (arr == k)\n",
    "        arr_new = arr[mask]\n",
    "        v = arr_new.size\n",
    "        result[k] = v\n",
    "    return result\n"
   ]
  },
  {
   "cell_type": "markdown",
   "metadata": {},
   "source": [
    "生成柱状图"
   ]
  },
  {
   "cell_type": "code",
   "execution_count": 18,
   "metadata": {},
   "outputs": [],
   "source": [
    "def create_word(word_message):\n",
    "    attr = [j[0] for j in word_message]\n",
    "    v1 = [j[1] for j in word_message]\n",
    "    bar = Bar(\"中国地铁站最爱用的字\", title_pos='center', title_top='18', width=800, height=400)\n",
    "    bar.add(\"\", attr, v1, is_stack=True, is_label_show=True)\n",
    "    bar.render(\"中国地铁站最爱用的字.html\")"
   ]
  },
  {
   "cell_type": "code",
   "execution_count": null,
   "metadata": {},
   "outputs": [],
   "source": [
    "word = all_np(words)\n",
    "word_message = sorted(word.items(), key=lambda x: x[1], reverse=True)[:10]\n",
    "create_word(word_message)\n"
   ]
  },
  {
   "cell_type": "markdown",
   "metadata": {},
   "source": [
    "选取上海的地铁站"
   ]
  },
  {
   "cell_type": "code",
   "execution_count": null,
   "metadata": {},
   "outputs": [],
   "source": [
    "df1 = df_station[df_station['city'] == '上海']\n",
    "print(df1)"
   ]
  },
  {
   "cell_type": "code",
   "execution_count": null,
   "metadata": {},
   "outputs": [],
   "source": [
    "选取上海地铁站名字包含路的数据"
   ]
  },
  {
   "cell_type": "code",
   "execution_count": null,
   "metadata": {},
   "outputs": [],
   "source": [
    "df2 = df1[df1['station'].str.contains('路')]\n",
    "print(df2)"
   ]
  },
  {
   "cell_type": "code",
   "execution_count": null,
   "metadata": {},
   "outputs": [],
   "source": [
    "选取武汉的地铁站"
   ]
  },
  {
   "cell_type": "code",
   "execution_count": null,
   "metadata": {},
   "outputs": [],
   "source": [
    "df1 = df_station[df_station['city'] == '武汉']\n",
    "print(df1)"
   ]
  },
  {
   "cell_type": "code",
   "execution_count": null,
   "metadata": {},
   "outputs": [],
   "source": [
    "选取武汉地铁站名字包含家的数据"
   ]
  },
  {
   "cell_type": "code",
   "execution_count": null,
   "metadata": {},
   "outputs": [],
   "source": [
    "df2 = df1[df1['station'].str.contains('家')]\n",
    "print(df2)\n"
   ]
  },
  {
   "cell_type": "code",
   "execution_count": null,
   "metadata": {},
   "outputs": [],
   "source": [
    "选取重庆的地铁站"
   ]
  },
  {
   "cell_type": "code",
   "execution_count": 16,
   "metadata": {},
   "outputs": [
    {
     "ename": "NameError",
     "evalue": "name 'df_station' is not defined",
     "output_type": "error",
     "traceback": [
      "\u001b[1;31m---------------------------------------------------------------------------\u001b[0m",
      "\u001b[1;31mNameError\u001b[0m                                 Traceback (most recent call last)",
      "\u001b[1;32m<ipython-input-16-c6d18e5d4abe>\u001b[0m in \u001b[0;36m<module>\u001b[1;34m()\u001b[0m\n\u001b[1;32m----> 1\u001b[1;33m \u001b[0mdf1\u001b[0m \u001b[1;33m=\u001b[0m \u001b[0mdf_station\u001b[0m\u001b[1;33m[\u001b[0m\u001b[0mdf_station\u001b[0m\u001b[1;33m[\u001b[0m\u001b[1;34m'city'\u001b[0m\u001b[1;33m]\u001b[0m \u001b[1;33m==\u001b[0m \u001b[1;34m'重庆'\u001b[0m\u001b[1;33m]\u001b[0m\u001b[1;33m\u001b[0m\u001b[0m\n\u001b[0m\u001b[0;32m      2\u001b[0m \u001b[0mprint\u001b[0m\u001b[1;33m(\u001b[0m\u001b[0mdf1\u001b[0m\u001b[1;33m)\u001b[0m\u001b[1;33m\u001b[0m\u001b[0m\n",
      "\u001b[1;31mNameError\u001b[0m: name 'df_station' is not defined"
     ]
    }
   ],
   "source": [
    "df1 = df_station[df_station['city'] == '重庆']\n",
    "print(df1)"
   ]
  },
  {
   "cell_type": "code",
   "execution_count": null,
   "metadata": {},
   "outputs": [],
   "source": [
    "选取重庆地铁站名字包含家的数据"
   ]
  },
  {
   "cell_type": "code",
   "execution_count": null,
   "metadata": {},
   "outputs": [],
   "source": [
    "df2 = df1[df1['station'].str.contains('家')]\n",
    "print(df2)"
   ]
  },
  {
   "cell_type": "markdown",
   "metadata": {},
   "source": [
    "生成柱状图"
   ]
  },
  {
   "cell_type": "code",
   "execution_count": 15,
   "metadata": {},
   "outputs": [],
   "source": [
    "def create_door(door):\n",
    "    attr = [j for j in door['city'][:3]]\n",
    "    v1 = [j for j in door['line'][:3]]\n",
    "    bar = Bar(\"地铁站最爱用“门”命名的城市\", title_pos='center', title_top='18', width=800, height=400)\n",
    "    bar.add(\"\", attr, v1, is_stack=True, is_label_show=True, yaxis_max=40)\n",
    "    bar.render(\"地铁站最爱用门命名的城市.html\")"
   ]
  }
 ],
 "metadata": {
  "kernelspec": {
   "display_name": "Python 3",
   "language": "python",
   "name": "python3"
  },
  "language_info": {
   "codemirror_mode": {
    "name": "ipython",
    "version": 3
   },
   "file_extension": ".py",
   "mimetype": "text/x-python",
   "name": "python",
   "nbconvert_exporter": "python",
   "pygments_lexer": "ipython3",
   "version": "3.7.0"
  }
 },
 "nbformat": 4,
 "nbformat_minor": 2
}
