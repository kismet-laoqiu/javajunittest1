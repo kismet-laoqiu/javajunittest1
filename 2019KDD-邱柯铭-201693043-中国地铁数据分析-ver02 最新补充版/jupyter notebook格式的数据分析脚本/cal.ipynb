{
 "cells": [
  {
   "cell_type": "markdown",
   "metadata": {},
   "source": [
    "# 整合"
   ]
  },
  {
   "cell_type": "code",
   "execution_count": null,
   "metadata": {},
   "outputs": [],
   "source": [
    "import xlrd\n",
    "from xlwt import Workbook"
   ]
  },
  {
   "cell_type": "code",
   "execution_count": null,
   "metadata": {},
   "outputs": [],
   "source": [
    "file = u'./subway - 副本.xls'\n",
    "xlrd.open_workbook(file)\n",
    "data = xlrd.open_workbook(file)"
   ]
  },
  {
   "cell_type": "markdown",
   "metadata": {},
   "source": [
    "获得表格"
   ]
  },
  {
   "cell_type": "code",
   "execution_count": null,
   "metadata": {},
   "outputs": [],
   "source": [
    "table = data.sheet_by_name(u'subway - 副本')"
   ]
  },
  {
   "cell_type": "markdown",
   "metadata": {},
   "source": [
    "拿到总共行数"
   ]
  },
  {
   "cell_type": "code",
   "execution_count": null,
   "metadata": {},
   "outputs": [],
   "source": [
    "nrows = table.nrows"
   ]
  },
  {
   "cell_type": "markdown",
   "metadata": {},
   "source": [
    "某一行数据 ['姓名', '用户名', '联系方式', '密码']"
   ]
  },
  {
   "cell_type": "code",
   "execution_count": null,
   "metadata": {},
   "outputs": [],
   "source": [
    "colnames = table.row_values(0)\n",
    "list = []"
   ]
  },
  {
   "cell_type": "code",
   "execution_count": null,
   "metadata": {},
   "outputs": [],
   "source": [
    "for rownum in range(1, nrows):  # 也就是从Excel第二行开始，第一行表头不算\n",
    "    row = table.row_values(rownum)\n",
    "    if row:\n",
    "        app = {}\n",
    "        for i in range(len(colnames)):\n",
    "            app[colnames[i]] = row[i]  # 表头与数据对应\n",
    "        list.append(app)\n",
    "city = {}"
   ]
  },
  {
   "cell_type": "code",
   "execution_count": null,
   "metadata": {},
   "outputs": [],
   "source": [
    "for row in list:\n",
    "    if row['城市'] not in city.keys():\n",
    "        city[row['城市']]=set()"
   ]
  },
  {
   "cell_type": "code",
   "execution_count": null,
   "metadata": {},
   "outputs": [],
   "source": [
    "for row in list:\n",
    "    city[row['城市']].add(row['地铁站'])\n",
    "data={}"
   ]
  },
  {
   "cell_type": "code",
   "execution_count": null,
   "metadata": {},
   "outputs": [],
   "source": [
    "for k in city:\n",
    "    data[k]=len(city[k])\n",
    "print(data)\n"
   ]
  },
  {
   "cell_type": "code",
   "execution_count": null,
   "metadata": {},
   "outputs": [],
   "source": [
    "file = Workbook(encoding='utf-8')\n",
    "table = file.add_sheet('data')\n",
    "i=0\n",
    "for d in data:\n",
    "    table.write(i, 0, d)\n",
    "    table.write(i, 1, data[d])\n",
    "    i+=1\n",
    "file.save('data.xlsx')"
   ]
  }
 ],
 "metadata": {
  "kernelspec": {
   "display_name": "Python 3",
   "language": "python",
   "name": "python3"
  },
  "language_info": {
   "codemirror_mode": {
    "name": "ipython",
    "version": 3
   },
   "file_extension": ".py",
   "mimetype": "text/x-python",
   "name": "python",
   "nbconvert_exporter": "python",
   "pygments_lexer": "ipython3",
   "version": "3.7.0"
  }
 },
 "nbformat": 4,
 "nbformat_minor": 2
}
